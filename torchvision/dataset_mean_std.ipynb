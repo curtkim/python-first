{
 "cells": [
  {
   "cell_type": "markdown",
   "id": "374f849b",
   "metadata": {},
   "source": [
    "https://discuss.pytorch.org/t/computing-the-mean-and-std-of-dataset/34949/3\n",
    "\n",
    "정리되지 않은 상태임"
   ]
  },
  {
   "cell_type": "code",
   "execution_count": 1,
   "id": "0c1fd794",
   "metadata": {},
   "outputs": [],
   "source": [
    "import torch\n",
    "from torch.utils.data import Dataset, DataLoader"
   ]
  },
  {
   "cell_type": "code",
   "execution_count": 12,
   "id": "aa6821d0",
   "metadata": {},
   "outputs": [
    {
     "data": {
      "text/plain": [
       "torch.Size([100])"
      ]
     },
     "execution_count": 12,
     "metadata": {},
     "output_type": "execute_result"
    }
   ],
   "source": [
    "temp = torch.arange(100*30*20, dtype=torch.float32).reshape(100, 30, 20)\n",
    "assert temp.shape == (100, 30, 20)\n",
    "temp_view = temp.view(100, -1)\n",
    "assert temp_view.shape == (100, 600) \n",
    "\n",
    "temp_view.mean(1).shape"
   ]
  },
  {
   "cell_type": "code",
   "execution_count": 10,
   "id": "248e4609",
   "metadata": {},
   "outputs": [],
   "source": [
    "origin_data = torch.randn(100, 3, 30, 20)"
   ]
  },
  {
   "cell_type": "code",
   "execution_count": 12,
   "id": "59b2740c",
   "metadata": {},
   "outputs": [
    {
     "name": "stdout",
     "output_type": "stream",
     "text": [
      "torch.Size([100, 3, 600])\n",
      "tensor([ 0.3738, -0.1742,  0.5353])\n"
     ]
    }
   ],
   "source": [
    "batch_samples = origin_data.size(0)\n",
    "view = origin_data.view(batch_samples, images.size(1), -1)\n",
    "print(view.shape)\n",
    "mean += view.mean(2).sum(0)\n",
    "print(mean)\n",
    "# origin_mean.shape == (r, g, b)"
   ]
  },
  {
   "cell_type": "code",
   "execution_count": 7,
   "id": "bb515570",
   "metadata": {},
   "outputs": [
    {
     "name": "stdout",
     "output_type": "stream",
     "text": [
      "torch.Size([10, 3, 576])\n",
      "torch.Size([10, 3, 576])\n",
      "torch.Size([10, 3, 576])\n",
      "torch.Size([10, 3, 576])\n",
      "torch.Size([10, 3, 576])\n",
      "torch.Size([10, 3, 576])\n",
      "torch.Size([10, 3, 576])\n",
      "torch.Size([10, 3, 576])\n",
      "torch.Size([10, 3, 576])\n",
      "torch.Size([10, 3, 576])\n",
      "tensor([-1.0136e-05,  3.1372e-05, -1.1012e-05]) tensor([0.0011, 0.0011, 0.0011])\n"
     ]
    }
   ],
   "source": [
    "\n",
    "\n",
    "\n",
    "\n",
    "\n",
    "class MyDataset(Dataset):\n",
    "    def __init__(self, data):\n",
    "        self.data = data\n",
    "        \n",
    "    def __getitem__(self, index):\n",
    "        x = self.data[index]\n",
    "        return x\n",
    "\n",
    "    def __len__(self):\n",
    "        return len(self.data)\n",
    "\n",
    "    \n",
    "dataset = MyDataset(origin_data)\n",
    "loader = DataLoader(\n",
    "    dataset,\n",
    "    batch_size=10,\n",
    "    num_workers=1,\n",
    "    shuffle=False\n",
    ")\n",
    "\n",
    "\n",
    "# mean = 0.\n",
    "# std = 0.\n",
    "# nb_samples = 0.\n",
    "# for data in loader:\n",
    "#     print(\"origin\", data.shape)\n",
    "#     batch_samples = data.size(0)\n",
    "#     data = data.view(batch_samples, data.size(1), -1)\n",
    "#     print(\"view\", data.shape)    \n",
    "#     mean += data.mean(2).sum(0)\n",
    "#     std += data.std(2).sum(0)\n",
    "#     nb_samples += batch_samples\n",
    "\n",
    "mean = 0.0\n",
    "for images in loader:\n",
    "    batch_samples = images.size(0) \n",
    "    images = images.view(batch_samples, images.size(1), -1)\n",
    "    print(images.shape)\n",
    "    mean += images.mean(2).sum(0)\n",
    "mean = mean / len(loader.dataset)\n",
    "\n",
    "var = 0.0\n",
    "for images in loader:\n",
    "    batch_samples = images.size(0)\n",
    "    images = images.view(batch_samples, images.size(1), -1)\n",
    "    var += ((images - mean.unsqueeze(1))**2).sum([0,2])\n",
    "std = torch.sqrt(var / (len(loader.dataset)*224*224))\n",
    "\n",
    "mean /= nb_samples\n",
    "std /= nb_samples\n",
    "\n",
    "print(mean, std)"
   ]
  },
  {
   "cell_type": "code",
   "execution_count": null,
   "id": "d6c79964",
   "metadata": {},
   "outputs": [],
   "source": []
  }
 ],
 "metadata": {
  "kernelspec": {
   "display_name": "Python 3",
   "language": "python",
   "name": "python3"
  },
  "language_info": {
   "codemirror_mode": {
    "name": "ipython",
    "version": 3
   },
   "file_extension": ".py",
   "mimetype": "text/x-python",
   "name": "python",
   "nbconvert_exporter": "python",
   "pygments_lexer": "ipython3",
   "version": "3.8.9"
  }
 },
 "nbformat": 4,
 "nbformat_minor": 5
}
