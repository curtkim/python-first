{
 "cells": [
  {
   "cell_type": "markdown",
   "id": "0f645ab6",
   "metadata": {},
   "source": [
    "from https://krajit.github.io/sympy/integration/integration.html"
   ]
  },
  {
   "cell_type": "code",
   "execution_count": 1,
   "id": "f411735d",
   "metadata": {},
   "outputs": [],
   "source": [
    "from sympy import *\n",
    "init_printing()"
   ]
  },
  {
   "cell_type": "code",
   "execution_count": 2,
   "id": "fcced70e",
   "metadata": {},
   "outputs": [],
   "source": [
    "x,y,z = symbols('x y z')\n",
    "t = symbols('t')"
   ]
  },
  {
   "cell_type": "code",
   "execution_count": 3,
   "id": "18411b1b",
   "metadata": {},
   "outputs": [
    {
     "data": {
      "image/png": "[encoded data removed]",
      "text/latex": [
       "$\\displaystyle 156$"
      ],
      "text/plain": [
       "156"
      ]
     },
     "execution_count": 3,
     "metadata": {},
     "output_type": "execute_result"
    }
   ],
   "source": [
    "x = t\n",
    "y = 2*sqrt(t)\n",
    "\n",
    "f = y\n",
    "s = sqrt( diff(x,t)**2 + diff(y,t)**2)\n",
    "\n",
    "integrate(f*s, [t, 3, 24])"
   ]
  },
  {
   "cell_type": "markdown",
   "id": "23c36167",
   "metadata": {},
   "source": [
    "## Example"
   ]
  },
  {
   "cell_type": "code",
   "execution_count": 5,
   "id": "1be2a31b",
   "metadata": {},
   "outputs": [
    {
     "data": {
      "image/png": "[encoded data removed]",
      "text/latex": [
       "$\\displaystyle 16 \\pi^{2}$"
      ],
      "text/plain": [
       "    2\n",
       "16⋅π "
      ]
     },
     "execution_count": 5,
     "metadata": {},
     "output_type": "execute_result"
    }
   ],
   "source": [
    "x = cos(t)\n",
    "y = sin(t)\n",
    "z = t\n",
    "\n",
    "F = [x**2 + y**2+z**2, 0, 0]\n",
    "integrate( F[0]*diff(x,t) + F[1]*diff(y,t) + F[2]*diff(z,t), [t, 0, 4*pi])"
   ]
  },
  {
   "cell_type": "markdown",
   "id": "9099889b",
   "metadata": {},
   "source": [
    "## Example 면적분?"
   ]
  },
  {
   "cell_type": "code",
   "execution_count": 6,
   "id": "0adf7f98",
   "metadata": {},
   "outputs": [
    {
     "data": {
      "image/png": "[encoded data removed]",
      "text/latex": [
       "$\\displaystyle \\frac{4}{3}$"
      ],
      "text/plain": [
       "4/3"
      ]
     },
     "execution_count": 6,
     "metadata": {},
     "output_type": "execute_result"
    }
   ],
   "source": [
    "x, y = symbols('x y')\n",
    "integrate(\n",
    "    integrate(x**2 + y**2, [x,y,2-y]),\n",
    "    [y, 0, 1]\n",
    ")"
   ]
  },
  {
   "cell_type": "code",
   "execution_count": null,
   "id": "a24b9aa6",
   "metadata": {},
   "outputs": [],
   "source": []
  }
 ],
 "metadata": {
  "kernelspec": {
   "display_name": "Python 3",
   "language": "python",
   "name": "python3"
  },
  "language_info": {
   "codemirror_mode": {
    "name": "ipython",
    "version": 3
   },
   "file_extension": ".py",
   "mimetype": "text/x-python",
   "name": "python",
   "nbconvert_exporter": "python",
   "pygments_lexer": "ipython3",
   "version": "3.8.9"
  }
 },
 "nbformat": 4,
 "nbformat_minor": 5
}
