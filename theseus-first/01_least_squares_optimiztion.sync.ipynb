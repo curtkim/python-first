{
 "cells": [
  {
   "cell_type": "code",
   "execution_count": 21,
   "id": "00911367",
   "metadata": {},
   "outputs": [
    {
     "data": {
      "text/plain": [
       "Text(0, 0.5, 'y')"
      ]
     },
     "execution_count": 21,
     "metadata": {},
     "output_type": "execute_result"
    },
    {
     "data": {
      "image/png": "[encoded data removed]",
      "text/plain": [
       "<Figure size 432x288 with 1 Axes>"
      ]
     },
     "metadata": {
      "needs_background": "light"
     },
     "output_type": "display_data"
    }
   ],
   "source": [
    "import torch\n",
    "\n",
    "torch.manual_seed(0)\n",
    "\n",
    "def generate_data(num_points=100, a=1, b=0.5, noise_factor=0.01):\n",
    "    data_x = torch.rand((1, num_points))\n",
    "    noise = torch.randn((1, num_points)) * noise_factor\n",
    "    data_y = a * data_x.square() + b + noise\n",
    "    return data_x, data_y\n",
    "\n",
    "data_x, data_y = generate_data()\n",
    "\n",
    "import matplotlib.pyplot as plt\n",
    "fig, ax = plt.subplots()\n",
    "ax.scatter(data_x, data_y)\n",
    "ax.set_xlabel('x')\n",
    "ax.set_ylabel('y')"
   ]
  },
  {
   "cell_type": "code",
   "execution_count": 22,
   "id": "fbbf2b78",
   "metadata": {},
   "outputs": [],
   "source": [
    "import theseus as th\n",
    "\n",
    "x = th.Variable(data_x, name='x')\n",
    "y = th.Variable(data_y, name='y')\n",
    "\n",
    "a = th.Vector(1, name='a')\n",
    "b = th.Vector(1, name='b')"
   ]
  },
  {
   "cell_type": "code",
   "execution_count": 23,
   "id": "c769d0ea",
   "metadata": {},
   "outputs": [],
   "source": [
    "def quad_error_fn(optim_vars, aux_vars):\n",
    "    a, b = optim_vars\n",
    "    x, y = aux_vars\n",
    "    est = a.data * x.data.square() + b.data\n",
    "    err = y.data - est\n",
    "    return err\n",
    "\n",
    "optim_vars = a, b\n",
    "aux_vars = [x, y]\n",
    "cost_function = th.AutoDiffCostFunction(\n",
    "        optim_vars, quad_error_fn, 100, aux_vars=aux_vars, name=\"quad_cost_fn\"\n",
    ")\n",
    "\n",
    "objective = th.Objective()\n",
    "objective.add(cost_function)\n",
    "optimizer = th.GaussNewton(\n",
    "        objective,\n",
    "        max_iterations = 10,\n",
    "        step_size=0.5,\n",
    ")\n",
    "theseus_optim = th.TheseusLayer(optimizer)"
   ]
  },
  {
   "cell_type": "code",
   "execution_count": 24,
   "id": "cbd4eec6",
   "metadata": {},
   "outputs": [
    {
     "name": "stdout",
     "output_type": "stream",
     "text": [
      "Nonlinear optimizer. Iteration: 0. Error: 38.42743682861328\n",
      "Nonlinear optimizer. Iteration: 1. Error: 9.609884262084961\n",
      "Nonlinear optimizer. Iteration: 2. Error: 2.405491828918457\n",
      "Nonlinear optimizer. Iteration: 3. Error: 0.6043925285339355\n",
      "Nonlinear optimizer. Iteration: 4. Error: 0.15411755442619324\n",
      "Nonlinear optimizer. Iteration: 5. Error: 0.04154873266816139\n",
      "Nonlinear optimizer. Iteration: 6. Error: 0.013406438753008842\n",
      "Nonlinear optimizer. Iteration: 7. Error: 0.006370890885591507\n",
      "Nonlinear optimizer. Iteration: 8. Error: 0.0046120136976242065\n",
      "Nonlinear optimizer. Iteration: 9. Error: 0.0041722883470356464\n",
      "Nonlinear optimizer. Iteration: 10. Error: 0.004062363877892494\n",
      "Best solution: {'a': tensor([[0.9955]]), 'b': tensor([[0.5022]])}\n"
     ]
    }
   ],
   "source": [
    "theseus_inputs = {\n",
    "\"x\": data_x,\n",
    "\"y\": data_y,\n",
    "\"a\": 2 * torch.ones((1, 1)),\n",
    "\"b\": torch.ones((1, 1))\n",
    "}\n",
    "with torch.no_grad():\n",
    "    updated_inputs, info = theseus_optim.forward(theseus_inputs, track_best_solution=True, verbose=True)\n",
    "print(\"Best solution:\", info.best_solution)"
   ]
  },
  {
   "cell_type": "code",
   "execution_count": 25,
   "id": "181cb9ed",
   "metadata": {},
   "outputs": [
    {
     "data": {
      "text/plain": [
       "Text(0, 0.5, 'y')"
      ]
     },
     "execution_count": 25,
     "metadata": {},
     "output_type": "execute_result"
    },
    {
     "data": {
      "image/png": "[encoded data removed]",
      "text/plain": [
       "<Figure size 432x288 with 1 Axes>"
      ]
     },
     "metadata": {
      "needs_background": "light"
     },
     "output_type": "display_data"
    }
   ],
   "source": [
    "# Plot the optimized function\n",
    "fig, ax = plt.subplots()\n",
    "ax.scatter(data_x, data_y);\n",
    "\n",
    "a = info.best_solution['a'].squeeze()\n",
    "b = info.best_solution['b'].squeeze()\n",
    "x = torch.linspace(0., 1., steps=100)\n",
    "y = a*x*x + b\n",
    "ax.plot(x, y, color='k', lw=4, linestyle='--',\n",
    "        label='Optimized quadratic')\n",
    "ax.legend()\n",
    "\n",
    "ax.set_xlabel('x')\n",
    "ax.set_ylabel('y')"
   ]
  }
 ],
 "metadata": {
  "kernelspec": {
   "display_name": "Python 3",
   "language": "python",
   "name": "python3"
  },
  "language_info": {
   "codemirror_mode": {
    "name": "ipython",
    "version": 3
   },
   "file_extension": ".py",
   "mimetype": "text/x-python",
   "name": "python",
   "nbconvert_exporter": "python",
   "pygments_lexer": "ipython3",
   "version": "3.8.9"
  }
 },
 "nbformat": 4,
 "nbformat_minor": 5
}
