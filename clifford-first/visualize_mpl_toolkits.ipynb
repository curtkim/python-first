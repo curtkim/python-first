{
 "cells": [
  {
   "cell_type": "code",
   "execution_count": 1,
   "id": "ad80c3a5",
   "metadata": {},
   "outputs": [
    {
     "data": {
      "text/plain": [
       "'0.0.3'"
      ]
     },
     "execution_count": 1,
     "metadata": {},
     "output_type": "execute_result"
    }
   ],
   "source": [
    "from matplotlib import pyplot as plt\n",
    "plt.ioff()  # we'll ask for plotting when we want it\n",
    "\n",
    "# if you're editing this locally, you'll get an interactive UI if you uncomment the following\n",
    "#\n",
    "#    %matplotlib notebook\n",
    "\n",
    "from mpl_toolkits.clifford import plot\n",
    "import mpl_toolkits.clifford; mpl_toolkits.clifford.__version__"
   ]
  },
  {
   "cell_type": "code",
   "execution_count": 2,
   "id": "4381984a",
   "metadata": {},
   "outputs": [],
   "source": [
    "from clifford.g2c import *"
   ]
  },
  {
   "cell_type": "code",
   "execution_count": 3,
   "id": "1b1293e2",
   "metadata": {},
   "outputs": [],
   "source": [
    "point = up(2*e1+e2)\n",
    "line = up(3*e1 + 2*e2) ^ up(3*e1 - 2*e2) ^ einf\n",
    "circle = up(e1) ^ up(-e1 + 2*e2) ^ up(-e1 - 2*e2)"
   ]
  },
  {
   "cell_type": "code",
   "execution_count": 4,
   "id": "d9cd3763",
   "metadata": {},
   "outputs": [],
   "source": [
    "point_refl = circle * point.gradeInvol() * ~circle\n",
    "line_refl = circle * line.gradeInvol() * ~circle"
   ]
  },
  {
   "cell_type": "code",
   "execution_count": 5,
   "id": "742adb5c",
   "metadata": {},
   "outputs": [
    {
     "data": {
      "image/png": "[encoded data removed]",
      "text/plain": [
       "<Figure size 432x288 with 2 Axes>"
      ]
     },
     "execution_count": 5,
     "metadata": {},
     "output_type": "execute_result"
    }
   ],
   "source": [
    "# standard matplotlib stuff - construct empty plots side-by-side, and set the scaling\n",
    "fig, (ax_before, ax_both) = plt.subplots(1, 2, sharex=True, sharey=True)\n",
    "ax_before.set(xlim=[-4, 4], ylim=[-4, 4], aspect='equal')\n",
    "ax_both.set(xlim=[-4, 4], ylim=[-4, 4], aspect='equal')\n",
    "\n",
    "# plot the objects before reflection on both plots\n",
    "for ax in (ax_before, ax_both):\n",
    "    plot(ax, [point], color='tab:blue', label='point', marker='x', linestyle=' ')\n",
    "    plot(ax, [line], color='tab:green', label='line')\n",
    "    plot(ax, [circle], color='tab:red', label='circle')\n",
    "\n",
    "# plot the objects after reflection, with thicker lines\n",
    "plot(ax_both, [point_refl], color='tab:blue', label='point_refl',  marker='x', linestyle=' ', markeredgewidth=2)\n",
    "plot(ax_both, [line_refl], color='tab:green', label='line_refl', linewidth=2)\n",
    "\n",
    "fig.tight_layout()\n",
    "ax_both.legend()\n",
    "\n",
    "# show the figure\n",
    "fig"
   ]
  }
 ],
 "metadata": {
  "kernelspec": {
   "display_name": "Python 3",
   "language": "python",
   "name": "python3"
  },
  "language_info": {
   "codemirror_mode": {
    "name": "ipython",
    "version": 3
   },
   "file_extension": ".py",
   "mimetype": "text/x-python",
   "name": "python",
   "nbconvert_exporter": "python",
   "pygments_lexer": "ipython3",
   "version": "3.8.9"
  }
 },
 "nbformat": 4,
 "nbformat_minor": 5
}
