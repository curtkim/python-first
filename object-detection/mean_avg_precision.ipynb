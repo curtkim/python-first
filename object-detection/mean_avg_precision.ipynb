{
 "cells": [
  {
   "cell_type": "code",
   "execution_count": 8,
   "id": "e6e59195",
   "metadata": {},
   "outputs": [],
   "source": [
    "import numpy as np\n",
    "import matplotlib.pyplot as plt\n",
    "import matplotlib.patches as patches\n",
    "\n",
    "WIDTH = 800\n",
    "HEIGHT = 800\n",
    "x = np.full((HEIGHT, WIDTH, 3), 255, dtype=np.uint8)"
   ]
  },
  {
   "cell_type": "code",
   "execution_count": 4,
   "id": "7ac9d115",
   "metadata": {},
   "outputs": [],
   "source": [
    "preds = [\n",
    "    # train_idx, class_prediction, prob_score, x, y, width, height\n",
    "    [0, 0, 0.9, 0.15, 0.25, 0.1, 0.1],\n",
    "    [0, 0, 0.8, 0.35, 0.6, 0.3, 0.2],\n",
    "    [0, 0, 0.7, 0.8, 0.7, 0.2, 0.2],\n",
    "]\n",
    "\n",
    "gt = [\n",
    "    [0, 0, 0.9, 0.55, 0.2, 0.3, 0.2],\n",
    "    [0, 0, 0.8, 0.35, 0.6, 0.3, 0.2],\n",
    "    [0, 0, 0.7, 0.8, 0.7, 0.2, 0.2],\n",
    "]"
   ]
  },
  {
   "cell_type": "code",
   "execution_count": 11,
   "id": "0a8dd2b7",
   "metadata": {},
   "outputs": [
    {
     "data": {
      "image/png": "[encoded data removed]",
      "text/plain": [
       "<Figure size 1440x720 with 3 Axes>"
      ]
     },
     "metadata": {
      "needs_background": "light"
     },
     "output_type": "display_data"
    }
   ],
   "source": [
    "fig, axs = plt.subplots(ncols=3, squeeze=False, figsize=(20,10))\n",
    "\n",
    "def draw_boxes(arr, color):\n",
    "    for row in arr:\n",
    "        rect = patches.Rectangle((row[3]*WIDTH, row[4]*HEIGHT), (row[5])*WIDTH, (row[6])*HEIGHT, linewidth=1, edgecolor=color, facecolor=\"none\")\n",
    "        ax.add_patch(rect)\n",
    "\n",
    "ax = axs[0, 0]\n",
    "\n",
    "ax.imshow(x)\n",
    "ax.set_title('gt')\n",
    "draw_boxes(gt, 'r')        \n",
    "\n",
    "ax = axs[0, 1]\n",
    "ax.imshow(x)\n",
    "ax.set_title('pred')\n",
    "draw_boxes(preds, 'b')        \n",
    "\n",
    "ax = axs[0, 2]\n",
    "ax.imshow(x)\n",
    "draw_boxes(gt, 'r')        \n",
    "draw_boxes(preds, 'b')        \n",
    "\n",
    "plt.show()"
   ]
  },
  {
   "cell_type": "code",
   "execution_count": 15,
   "id": "85aee788",
   "metadata": {},
   "outputs": [
    {
     "name": "stdout",
     "output_type": "stream",
     "text": [
      "tensor(0.2778) 0.2777777777777778\n"
     ]
    }
   ],
   "source": [
    "from mean_avg_precision import mean_average_precision\n",
    "\n",
    "mAP = mean_average_precision(\n",
    "        preds,\n",
    "        gt,\n",
    "        iou_threshold=0.5,\n",
    "        box_format=\"midpoint\",\n",
    "        num_classes=1,\n",
    "    )\n",
    "\n",
    "print(mAP, 5 / 18)"
   ]
  },
  {
   "cell_type": "code",
   "execution_count": null,
   "id": "7f22215b",
   "metadata": {},
   "outputs": [],
   "source": []
  }
 ],
 "metadata": {
  "kernelspec": {
   "display_name": "Python 3",
   "language": "python",
   "name": "python3"
  },
  "language_info": {
   "codemirror_mode": {
    "name": "ipython",
    "version": 3
   },
   "file_extension": ".py",
   "mimetype": "text/x-python",
   "name": "python",
   "nbconvert_exporter": "python",
   "pygments_lexer": "ipython3",
   "version": "3.8.9"
  }
 },
 "nbformat": 4,
 "nbformat_minor": 5
}
