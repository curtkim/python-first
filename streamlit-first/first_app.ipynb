{
 "cells": [
  {
   "cell_type": "code",
   "execution_count": null,
   "id": "9f6febdd",
   "metadata": {},
   "outputs": [],
   "source": [
    "import streamlit as st\n",
    "# To make things easier later, we're also importing numpy and pandas for\n",
    "# working with sample data.\n",
    "import numpy as np\n",
    "import pandas as pd"
   ]
  },
  {
   "cell_type": "code",
   "execution_count": null,
   "id": "d3edf955",
   "metadata": {},
   "outputs": [],
   "source": [
    "\"\"\"\n",
    "# My first app2\n",
    "Here's our first attempt at using data to create a table:\n",
    "\"\"\""
   ]
  },
  {
   "cell_type": "code",
   "execution_count": null,
   "id": "d139ba4b",
   "metadata": {},
   "outputs": [],
   "source": [
    "df = pd.DataFrame({\n",
    "  'first column': [1, 2, 3, 4],\n",
    "  'second column': [10, 20, 30, 40]\n",
    "})"
   ]
  },
  {
   "cell_type": "code",
   "execution_count": null,
   "id": "84d816f7",
   "metadata": {},
   "outputs": [],
   "source": [
    "df"
   ]
  },
  {
   "cell_type": "code",
   "execution_count": null,
   "id": "739cadfd",
   "metadata": {},
   "outputs": [],
   "source": [
    "chart_data = pd.DataFrame(\n",
    "     np.random.randn(20, 3),\n",
    "     columns=['a', 'b', 'c'])"
   ]
  },
  {
   "cell_type": "code",
   "execution_count": null,
   "id": "bd5459c7",
   "metadata": {},
   "outputs": [],
   "source": [
    "st.line_chart(chart_data)"
   ]
  },
  {
   "cell_type": "code",
   "execution_count": null,
   "id": "c0a1050e",
   "metadata": {},
   "outputs": [],
   "source": [
    "map_data = pd.DataFrame(\n",
    "    np.random.randn(1000, 2) / [50, 50] + [37.76, -122.4],\n",
    "    columns=['lat', 'lon'])"
   ]
  },
  {
   "cell_type": "code",
   "execution_count": null,
   "id": "766c2d8a",
   "metadata": {},
   "outputs": [],
   "source": [
    "st.map(map_data)"
   ]
  },
  {
   "cell_type": "code",
   "execution_count": null,
   "id": "432fb5a0",
   "metadata": {
    "lines_to_next_cell": 2
   },
   "outputs": [],
   "source": [
    "if st.checkbox('Show dataframe'):\n",
    "    chart_data = pd.DataFrame(\n",
    "       np.random.randn(20, 3),\n",
    "       columns=['a', 'b', 'c'])\n",
    "\n",
    "    chart_data"
   ]
  },
  {
   "cell_type": "code",
   "execution_count": null,
   "id": "72cd2e20",
   "metadata": {},
   "outputs": [],
   "source": [
    "option = st.selectbox(\n",
    "    'Which number do you like best?',\n",
    "     df['first column'])"
   ]
  },
  {
   "cell_type": "code",
   "execution_count": null,
   "id": "3f28725e",
   "metadata": {
    "lines_to_next_cell": 2
   },
   "outputs": [],
   "source": [
    "'You selected: ', option"
   ]
  },
  {
   "cell_type": "code",
   "execution_count": null,
   "id": "a5c05388",
   "metadata": {},
   "outputs": [],
   "source": [
    "left_column, right_column = st.columns(2)\n",
    "pressed = left_column.button('Press me?')\n",
    "if pressed:\n",
    "  right_column.write(\"Woohoo!\")"
   ]
  },
  {
   "cell_type": "code",
   "execution_count": null,
   "id": "3919ec93",
   "metadata": {
    "lines_to_next_cell": 2
   },
   "outputs": [],
   "source": [
    "expander = st.expander(\"FAQ\")\n",
    "expander.write(\"Here you could put in some really, really long explanations...\")"
   ]
  }
 ],
 "metadata": {
  "jupytext": {
   "cell_metadata_filter": "-all",
   "main_language": "python",
   "notebook_metadata_filter": "-all"
  }
 },
 "nbformat": 4,
 "nbformat_minor": 5
}
