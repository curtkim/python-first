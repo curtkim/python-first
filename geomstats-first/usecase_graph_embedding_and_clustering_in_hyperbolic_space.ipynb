{
 "cells": [
  {
   "cell_type": "code",
   "execution_count": 1,
   "id": "2c3462d4",
   "metadata": {},
   "outputs": [],
   "source": [
    "import os\n",
    "import sys\n",
    "import warnings\n",
    "\n",
    "sys.path.append(os.path.dirname(os.getcwd()))\n",
    "warnings.filterwarnings('ignore')"
   ]
  },
  {
   "cell_type": "code",
   "execution_count": 2,
   "id": "6d9174a6",
   "metadata": {},
   "outputs": [
    {
     "name": "stderr",
     "output_type": "stream",
     "text": [
      "INFO: Using numpy backend\n"
     ]
    }
   ],
   "source": [
    "import logging\n",
    "import matplotlib.pyplot as plt\n",
    "\n",
    "import geomstats.backend as gs\n",
    "import geomstats.visualization as visualization\n",
    "\n",
    "from geomstats.datasets.utils import load_karate_graph\n",
    "from geomstats.geometry.poincare_ball import PoincareBall"
   ]
  },
  {
   "cell_type": "code",
   "execution_count": 3,
   "id": "0df97754",
   "metadata": {},
   "outputs": [],
   "source": [
    "gs.random.seed(1234)\n",
    "dim = 2\n",
    "max_epochs = 100\n",
    "lr = .05\n",
    "n_negative = 2\n",
    "context_size = 1\n",
    "karate_graph = load_karate_graph()"
   ]
  },
  {
   "cell_type": "code",
   "execution_count": 4,
   "id": "cd1a7b61",
   "metadata": {},
   "outputs": [
    {
     "name": "stderr",
     "output_type": "stream",
     "text": [
      "INFO: Number of vertices: 34\n",
      "INFO: Mean edge-vertex ratio: 4.588235294117647\n"
     ]
    }
   ],
   "source": [
    "nb_vertices_by_edges =\\\n",
    "    [len(e_2) for _, e_2 in karate_graph.edges.items()]\n",
    "logging.info('Number of vertices: %s', len(karate_graph.edges))\n",
    "logging.info(\n",
    "    'Mean edge-vertex ratio: %s',\n",
    "    (sum(nb_vertices_by_edges, 0) / len(karate_graph.edges)))\n"
   ]
  },
  {
   "cell_type": "code",
   "execution_count": 5,
   "id": "50e60dfb",
   "metadata": {},
   "outputs": [],
   "source": [
    "hyperbolic_manifold = PoincareBall(2)"
   ]
  },
  {
   "cell_type": "code",
   "execution_count": 6,
   "id": "a6a1eac3",
   "metadata": {},
   "outputs": [],
   "source": [
    "def grad_squared_distance(point_a, point_b):\n",
    "    \"\"\"Gradient of squared hyperbolic distance.\n",
    "\n",
    "    Gradient of the squared distance based on the\n",
    "    Ball representation according to point_a\n",
    "\n",
    "    Parameters\n",
    "    ----------\n",
    "    point_a : array-like, shape=[n_samples, dim]\n",
    "        First point in hyperbolic space.\n",
    "    point_b : array-like, shape=[n_samples, dim]\n",
    "        Second point in hyperbolic space.\n",
    "\n",
    "    Returns\n",
    "    -------\n",
    "    dist : array-like, shape=[n_samples, 1]\n",
    "        Geodesic squared distance between the two points.\n",
    "    \"\"\"\n",
    "    hyperbolic_metric = PoincareBall(2).metric\n",
    "    log_map = hyperbolic_metric.log(point_b, point_a)\n",
    "\n",
    "    return -2 * log_map"
   ]
  },
  {
   "cell_type": "code",
   "execution_count": 7,
   "id": "81046867",
   "metadata": {},
   "outputs": [],
   "source": [
    "def log_sigmoid(vector):\n",
    "    \"\"\"Logsigmoid function.\n",
    "\n",
    "    Apply log sigmoid function\n",
    "\n",
    "    Parameters\n",
    "    ----------\n",
    "    vector : array-like, shape=[n_samples, dim]\n",
    "\n",
    "    Returns\n",
    "    -------\n",
    "    result : array-like, shape=[n_samples, dim]\n",
    "    \"\"\"\n",
    "    return gs.log((1 / (1 + gs.exp(-vector))))"
   ]
  },
  {
   "cell_type": "code",
   "execution_count": 8,
   "id": "9a8981e3",
   "metadata": {},
   "outputs": [],
   "source": [
    "def grad_log_sigmoid(vector):\n",
    "    \"\"\"Gradient of log sigmoid function.\n",
    "\n",
    "    Parameters\n",
    "    ----------\n",
    "    vector : array-like, shape=[n_samples, dim]\n",
    "\n",
    "    Returns\n",
    "    -------\n",
    "    gradient : array-like, shape=[n_samples, dim]\n",
    "    \"\"\"\n",
    "    return 1 / (1 + gs.exp(vector))"
   ]
  },
  {
   "cell_type": "code",
   "execution_count": 9,
   "id": "c9db9142",
   "metadata": {},
   "outputs": [],
   "source": [
    "def loss(example_embedding, context_embedding, negative_embedding,\n",
    "         manifold):\n",
    "    \"\"\"Compute loss and grad.\n",
    "\n",
    "    Compute loss and grad given embedding of the current example,\n",
    "    embedding of the context and negative sampling embedding.\n",
    "    \"\"\"\n",
    "    n_edges, dim =\\\n",
    "        negative_embedding.shape[0], example_embedding.shape[-1]\n",
    "    example_embedding = gs.expand_dims(example_embedding, 0)\n",
    "    context_embedding = gs.expand_dims(context_embedding, 0)\n",
    "    positive_distance =\\\n",
    "        manifold.metric.squared_dist(\n",
    "            example_embedding, context_embedding)\n",
    "    positive_loss =\\\n",
    "        log_sigmoid(-positive_distance)\n",
    "\n",
    "    reshaped_example_embedding =\\\n",
    "        gs.repeat(example_embedding, n_edges, axis=0)\n",
    "    negative_distance =\\\n",
    "        manifold.metric.squared_dist(\n",
    "            reshaped_example_embedding, negative_embedding)\n",
    "    negative_loss = log_sigmoid(negative_distance)\n",
    "\n",
    "    total_loss = -(positive_loss + negative_loss.sum())\n",
    "\n",
    "    positive_log_sigmoid_grad =\\\n",
    "        -grad_log_sigmoid(-positive_distance)\n",
    "\n",
    "    positive_distance_grad =\\\n",
    "        grad_squared_distance(example_embedding, context_embedding)\n",
    "\n",
    "    positive_grad =\\\n",
    "        gs.repeat(positive_log_sigmoid_grad, dim, axis=-1)\\\n",
    "        * positive_distance_grad\n",
    "\n",
    "    negative_distance_grad =\\\n",
    "        grad_squared_distance(reshaped_example_embedding, negative_embedding)\n",
    "\n",
    "    negative_distance = gs.to_ndarray(negative_distance,\n",
    "                                      to_ndim=2, axis=-1)\n",
    "    negative_log_sigmoid_grad =\\\n",
    "        grad_log_sigmoid(negative_distance)\n",
    "\n",
    "    negative_grad = negative_log_sigmoid_grad\\\n",
    "        * negative_distance_grad\n",
    "    example_grad = -(positive_grad + negative_grad.sum(axis=0))\n",
    "\n",
    "    return total_loss, example_grad"
   ]
  },
  {
   "cell_type": "code",
   "execution_count": 10,
   "id": "f09e4e86",
   "metadata": {},
   "outputs": [],
   "source": [
    "embeddings = gs.random.normal(size=(karate_graph.n_nodes, dim))\n",
    "embeddings = embeddings * 0.2"
   ]
  },
  {
   "cell_type": "code",
   "execution_count": 11,
   "id": "6ec83a0a",
   "metadata": {},
   "outputs": [],
   "source": [
    "random_walks = karate_graph.random_walk()"
   ]
  },
  {
   "cell_type": "code",
   "execution_count": 12,
   "id": "24c01f21",
   "metadata": {},
   "outputs": [],
   "source": [
    "negative_table_parameter = 5\n",
    "negative_sampling_table = []\n",
    "\n",
    "for i, nb_v in enumerate(nb_vertices_by_edges):\n",
    "    negative_sampling_table +=\\\n",
    "        ([i] * int((nb_v**(3. / 4.))) * negative_table_parameter)\n",
    "\n",
    "negative_sampling_table = gs.array(negative_sampling_table)"
   ]
  },
  {
   "cell_type": "code",
   "execution_count": 13,
   "id": "8aa00f50",
   "metadata": {},
   "outputs": [
    {
     "name": "stderr",
     "output_type": "stream",
     "text": [
      "INFO: iteration 0 loss_value 1.860523\n",
      "INFO: iteration 1 loss_value 1.800217\n",
      "INFO: iteration 2 loss_value 1.731612\n",
      "INFO: iteration 3 loss_value 1.667285\n",
      "INFO: iteration 4 loss_value 1.637948\n",
      "INFO: iteration 5 loss_value 1.607282\n",
      "INFO: iteration 6 loss_value 1.560220\n",
      "INFO: iteration 7 loss_value 1.492660\n",
      "INFO: iteration 8 loss_value 1.474845\n",
      "INFO: iteration 9 loss_value 1.418243\n",
      "INFO: iteration 10 loss_value 1.373060\n",
      "INFO: iteration 11 loss_value 1.383301\n",
      "INFO: iteration 12 loss_value 1.342917\n",
      "INFO: iteration 13 loss_value 1.350228\n",
      "INFO: iteration 14 loss_value 1.315000\n",
      "INFO: iteration 15 loss_value 1.323195\n",
      "INFO: iteration 16 loss_value 1.299895\n",
      "INFO: iteration 17 loss_value 1.298796\n",
      "INFO: iteration 18 loss_value 1.308219\n",
      "INFO: iteration 19 loss_value 1.288793\n",
      "INFO: iteration 20 loss_value 1.295942\n",
      "INFO: iteration 21 loss_value 1.271203\n",
      "INFO: iteration 22 loss_value 1.266095\n",
      "INFO: iteration 23 loss_value 1.293395\n",
      "INFO: iteration 24 loss_value 1.263833\n",
      "INFO: iteration 25 loss_value 1.286562\n",
      "INFO: iteration 26 loss_value 1.234169\n",
      "INFO: iteration 27 loss_value 1.266154\n",
      "INFO: iteration 28 loss_value 1.301340\n",
      "INFO: iteration 29 loss_value 1.296383\n",
      "INFO: iteration 30 loss_value 1.250282\n",
      "INFO: iteration 31 loss_value 1.271541\n",
      "INFO: iteration 32 loss_value 1.250458\n",
      "INFO: iteration 33 loss_value 1.264879\n",
      "INFO: iteration 34 loss_value 1.272589\n",
      "INFO: iteration 35 loss_value 1.280617\n",
      "INFO: iteration 36 loss_value 1.301627\n",
      "INFO: iteration 37 loss_value 1.245809\n",
      "INFO: iteration 38 loss_value 1.272441\n",
      "INFO: iteration 39 loss_value 1.243302\n",
      "INFO: iteration 40 loss_value 1.273938\n",
      "INFO: iteration 41 loss_value 1.256004\n",
      "INFO: iteration 42 loss_value 1.281595\n",
      "INFO: iteration 43 loss_value 1.234028\n",
      "INFO: iteration 44 loss_value 1.266927\n",
      "INFO: iteration 45 loss_value 1.253107\n",
      "INFO: iteration 46 loss_value 1.244408\n",
      "INFO: iteration 47 loss_value 1.243046\n",
      "INFO: iteration 48 loss_value 1.255937\n",
      "INFO: iteration 49 loss_value 1.242271\n",
      "INFO: iteration 50 loss_value 1.245222\n",
      "INFO: iteration 51 loss_value 1.247909\n",
      "INFO: iteration 52 loss_value 1.241674\n",
      "INFO: iteration 53 loss_value 1.248709\n",
      "INFO: iteration 54 loss_value 1.248985\n",
      "INFO: iteration 55 loss_value 1.252626\n",
      "INFO: iteration 56 loss_value 1.250595\n",
      "INFO: iteration 57 loss_value 1.293939\n",
      "INFO: iteration 58 loss_value 1.239443\n",
      "INFO: iteration 59 loss_value 1.279917\n",
      "INFO: iteration 60 loss_value 1.242954\n",
      "INFO: iteration 61 loss_value 1.257405\n",
      "INFO: iteration 62 loss_value 1.297626\n",
      "INFO: iteration 63 loss_value 1.272491\n",
      "INFO: iteration 64 loss_value 1.233682\n",
      "INFO: iteration 65 loss_value 1.240212\n",
      "INFO: iteration 66 loss_value 1.278806\n",
      "INFO: iteration 67 loss_value 1.286740\n",
      "INFO: iteration 68 loss_value 1.250491\n",
      "INFO: iteration 69 loss_value 1.231407\n",
      "INFO: iteration 70 loss_value 1.235213\n",
      "INFO: iteration 71 loss_value 1.266950\n",
      "INFO: iteration 72 loss_value 1.265650\n",
      "INFO: iteration 73 loss_value 1.265777\n",
      "INFO: iteration 74 loss_value 1.278479\n",
      "INFO: iteration 75 loss_value 1.268650\n",
      "INFO: iteration 76 loss_value 1.261043\n",
      "INFO: iteration 77 loss_value 1.297793\n",
      "INFO: iteration 78 loss_value 1.294642\n",
      "INFO: iteration 79 loss_value 1.270213\n",
      "INFO: iteration 80 loss_value 1.292444\n",
      "INFO: iteration 81 loss_value 1.276964\n",
      "INFO: iteration 82 loss_value 1.267569\n",
      "INFO: iteration 83 loss_value 1.292212\n",
      "INFO: iteration 84 loss_value 1.259926\n",
      "INFO: iteration 85 loss_value 1.249601\n",
      "INFO: iteration 86 loss_value 1.278884\n",
      "INFO: iteration 87 loss_value 1.291993\n",
      "INFO: iteration 88 loss_value 1.268833\n",
      "INFO: iteration 89 loss_value 1.272357\n",
      "INFO: iteration 90 loss_value 1.259662\n",
      "INFO: iteration 91 loss_value 1.301529\n",
      "INFO: iteration 92 loss_value 1.290365\n",
      "INFO: iteration 93 loss_value 1.294160\n",
      "INFO: iteration 94 loss_value 1.301068\n",
      "INFO: iteration 95 loss_value 1.265796\n",
      "INFO: iteration 96 loss_value 1.288141\n",
      "INFO: iteration 97 loss_value 1.291420\n",
      "INFO: iteration 98 loss_value 1.279336\n",
      "INFO: iteration 99 loss_value 1.246281\n"
     ]
    }
   ],
   "source": [
    "for epoch in range(max_epochs):\n",
    "    total_loss = []\n",
    "    for path in random_walks:\n",
    "\n",
    "        for example_index, one_path in enumerate(path):\n",
    "            context_index = path[max(0, example_index - context_size):\n",
    "                                 min(example_index + context_size,\n",
    "                                 len(path))]\n",
    "            negative_index =\\\n",
    "                gs.random.randint(negative_sampling_table.shape[0],\n",
    "                                  size=(len(context_index),\n",
    "                                  n_negative))\n",
    "            negative_index = negative_sampling_table[negative_index]\n",
    "\n",
    "            example_embedding = embeddings[one_path]\n",
    "            for one_context_i, one_negative_i in zip(context_index,\n",
    "                                                     negative_index):\n",
    "                context_embedding = embeddings[one_context_i]\n",
    "                negative_embedding = embeddings[one_negative_i]\n",
    "                l, g_ex = loss(\n",
    "                    example_embedding,\n",
    "                    context_embedding,\n",
    "                    negative_embedding,\n",
    "                    hyperbolic_manifold)\n",
    "                total_loss.append(l)\n",
    "\n",
    "                example_to_update = embeddings[one_path]\n",
    "                embeddings[one_path] = hyperbolic_manifold.metric.exp(\n",
    "                    -lr * g_ex, example_to_update)\n",
    "    logging.info(\n",
    "        'iteration %d loss_value %f',\n",
    "        epoch, sum(total_loss, 0) / len(total_loss))"
   ]
  },
  {
   "cell_type": "markdown",
   "id": "ac334006",
   "metadata": {},
   "source": [
    "## Plotting results"
   ]
  },
  {
   "cell_type": "code",
   "execution_count": 14,
   "id": "f37b5f9e",
   "metadata": {},
   "outputs": [
    {
     "data": {
      "image/png": "[encoded data removed]",
      "text/plain": [
       "<Figure size 576x576 with 1 Axes>"
      ]
     },
     "metadata": {
      "needs_background": "light"
     },
     "output_type": "display_data"
    }
   ],
   "source": [
    "import matplotlib.patches as mpatches\n",
    "\n",
    "colors = {1: 'b', 2: 'r'}\n",
    "group_1 = mpatches.Patch(color=colors[1], label='Group 1')\n",
    "group_2 = mpatches.Patch(color=colors[2], label='Group 2')\n",
    "\n",
    "circle = visualization.PoincareDisk(point_type='ball')\n",
    "\n",
    "fig, ax = plt.subplots(figsize=(8, 8))\n",
    "ax.axes.xaxis.set_visible(False)\n",
    "ax.axes.yaxis.set_visible(False)\n",
    "circle.set_ax(ax)\n",
    "circle.draw(ax=ax)\n",
    "for i_embedding, embedding in enumerate(embeddings):\n",
    "    x = embedding[0]\n",
    "    y = embedding[1]\n",
    "    pt_id = i_embedding\n",
    "    plt.scatter(\n",
    "        x, y,\n",
    "        c=colors[karate_graph.labels[pt_id][0]],\n",
    "        s = 150\n",
    "        )\n",
    "    ax.annotate(pt_id, (x,y))\n",
    "\n",
    "plt.tick_params(\n",
    "which='both')\n",
    "plt.title('Poincare Ball Embedding of the Karate Club Network')\n",
    "plt.legend(handles=[group_1, group_2])\n",
    "plt.show()"
   ]
  },
  {
   "cell_type": "code",
   "execution_count": 15,
   "id": "f3d3a3bc",
   "metadata": {},
   "outputs": [],
   "source": [
    "from geomstats.learning.kmeans import RiemannianKMeans"
   ]
  },
  {
   "cell_type": "code",
   "execution_count": 16,
   "id": "d5ae6b03",
   "metadata": {},
   "outputs": [],
   "source": [
    "n_clusters = 2"
   ]
  },
  {
   "cell_type": "code",
   "execution_count": 17,
   "id": "60f8d02b",
   "metadata": {},
   "outputs": [],
   "source": [
    "kmeans = RiemannianKMeans(metric= hyperbolic_manifold.metric,\n",
    "                          n_clusters=n_clusters,\n",
    "                          init='random',\n",
    "                          mean_method='batch'\n",
    "                              )"
   ]
  },
  {
   "cell_type": "code",
   "execution_count": 18,
   "id": "dd00b18e",
   "metadata": {},
   "outputs": [],
   "source": [
    "centroids = kmeans.fit(X=embeddings)\n",
    "labels = kmeans.predict(X=embeddings)"
   ]
  },
  {
   "cell_type": "code",
   "execution_count": 19,
   "id": "37598ba4",
   "metadata": {},
   "outputs": [
    {
     "data": {
      "image/png": "[encoded data removed]",
      "text/plain": [
       "<Figure size 576x576 with 1 Axes>"
      ]
     },
     "metadata": {
      "needs_background": "light"
     },
     "output_type": "display_data"
    }
   ],
   "source": [
    "colors = ['g', 'c', 'm']\n",
    "circle = visualization.PoincareDisk(point_type='ball')\n",
    "fig2, ax2 = plt.subplots(figsize=(8, 8))\n",
    "circle.set_ax(ax2)\n",
    "circle.draw(ax=ax2)\n",
    "ax2.axes.xaxis.set_visible(False)\n",
    "ax2.axes.yaxis.set_visible(False)\n",
    "group_1_predicted = mpatches.Patch(color=colors[0], label='Predicted Group 1')\n",
    "group_2_predicted = mpatches.Patch(color=colors[1], label='Predicted Group 2')\n",
    "group_centroids = mpatches.Patch(color=colors[2], label='Cluster centroids')\n",
    "\n",
    "for i in range(n_clusters):\n",
    "    for i_embedding, embedding in enumerate(embeddings):\n",
    "        x = embedding[0]\n",
    "        y = embedding[1]\n",
    "        pt_id = i_embedding\n",
    "        if labels[i_embedding] == 0:\n",
    "            color = colors[0]\n",
    "        else:\n",
    "            color = colors[1]\n",
    "        plt.scatter(\n",
    "            x, y,\n",
    "            c=color,\n",
    "            s = 150\n",
    "            )\n",
    "        ax2.annotate(pt_id, (x,y))\n",
    "\n",
    "for i_centroid, centroid in enumerate(centroids):\n",
    "    x = centroid[0]\n",
    "    y = centroid[1]\n",
    "    plt.scatter(\n",
    "        x, y,\n",
    "        c=colors[2],\n",
    "        marker='*',\n",
    "        s = 150,\n",
    "        )\n",
    "\n",
    "plt.title('K-means applied to Karate club embedding')\n",
    "plt.legend(handles = [group_1_predicted, group_2_predicted, group_centroids])\n",
    "plt.show()"
   ]
  },
  {
   "cell_type": "code",
   "execution_count": null,
   "id": "9bfafd3d",
   "metadata": {},
   "outputs": [],
   "source": []
  }
 ],
 "metadata": {
  "kernelspec": {
   "display_name": "Python 3",
   "language": "python",
   "name": "python3"
  },
  "language_info": {
   "codemirror_mode": {
    "name": "ipython",
    "version": 3
   },
   "file_extension": ".py",
   "mimetype": "text/x-python",
   "name": "python",
   "nbconvert_exporter": "python",
   "pygments_lexer": "ipython3",
   "version": "3.8.9"
  }
 },
 "nbformat": 4,
 "nbformat_minor": 5
}
