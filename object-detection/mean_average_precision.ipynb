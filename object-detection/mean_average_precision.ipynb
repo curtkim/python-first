{
 "cells": [
  {
   "cell_type": "code",
   "execution_count": 1,
   "id": "863751bf",
   "metadata": {},
   "outputs": [],
   "source": [
    "import numpy as np\n",
    "from mean_average_precision import MetricBuilder"
   ]
  },
  {
   "cell_type": "code",
   "execution_count": 54,
   "id": "124cda2d",
   "metadata": {},
   "outputs": [
    {
     "name": "stdout",
     "output_type": "stream",
     "text": [
      "gt 6\n",
      "preds 8\n"
     ]
    }
   ],
   "source": [
    "# [xmin, ymin, xmax, ymax, class_id, difficult, crowd]\n",
    "gt = np.array([\n",
    "    [439, 157, 556, 241, 0, 0, 0],\n",
    "    [437, 246, 518, 351, 0, 0, 0],\n",
    "    [515, 306, 595, 375, 0, 0, 0],\n",
    "    [407, 386, 531, 476, 0, 0, 0],\n",
    "    [544, 419, 621, 476, 0, 0, 0],\n",
    "    [609, 297, 636, 392, 0, 0, 0]\n",
    "])\n",
    "\n",
    "# [xmin, ymin, xmax, ymax, class_id, confidence]\n",
    "preds = np.array([\n",
    "    [429, 219, 528, 247, 0, 0.460851],\n",
    "    [433, 260, 506, 336, 0, 0.269833],\n",
    "    [518, 314, 603, 369, 0, 0.462608],\n",
    "    [592, 310, 634, 388, 0, 0.298196],\n",
    "    [403, 384, 517, 461, 0, 0.382881],\n",
    "    [405, 429, 519, 470, 0, 0.369369],\n",
    "    [433, 272, 499, 341, 0, 0.272826],\n",
    "    [413, 390, 515, 459, 0, 0.619459]\n",
    "])\n",
    "print('gt', len(gt))\n",
    "print('preds', len(preds))"
   ]
  },
  {
   "cell_type": "code",
   "execution_count": 36,
   "id": "283f17a9",
   "metadata": {},
   "outputs": [],
   "source": [
    "import matplotlib.pyplot as plt\n",
    "import matplotlib.patches as patches"
   ]
  },
  {
   "cell_type": "code",
   "execution_count": 37,
   "id": "d0ca0a7b",
   "metadata": {},
   "outputs": [
    {
     "name": "stdout",
     "output_type": "stream",
     "text": [
      "(800, 800, 3) uint8\n"
     ]
    }
   ],
   "source": [
    "x = np.full((800, 800, 3), 255, dtype=np.uint8)\n",
    "print(x.shape, x.dtype)"
   ]
  },
  {
   "cell_type": "code",
   "execution_count": 53,
   "id": "b68a46f0",
   "metadata": {
    "scrolled": false
   },
   "outputs": [
    {
     "name": "stdout",
     "output_type": "stream",
     "text": [
      "Figure(1440x720)\n"
     ]
    },
    {
     "data": {
      "image/png": "[encoded data removed]",
      "text/plain": [
       "<Figure size 1440x720 with 3 Axes>"
      ]
     },
     "metadata": {
      "needs_background": "light"
     },
     "output_type": "display_data"
    }
   ],
   "source": [
    "#fig=plt.figure(figsize=(12,8), dpi= 100, facecolor='w', edgecolor='k')\n",
    "\n",
    "fig, axs = plt.subplots(ncols=3, squeeze=False, figsize=(20,10))\n",
    "#fig.figure(figsize=(12, 4))\n",
    "print(fig)\n",
    "\n",
    "def draw_boxes(arr, color):\n",
    "    for row in arr:\n",
    "        rect = patches.Rectangle((row[0], row[1]), row[2]-row[0], row[3]-row[1], linewidth=1, edgecolor=color, facecolor=\"none\")\n",
    "        ax.add_patch(rect)\n",
    "\n",
    "ax = axs[0, 0]\n",
    "\n",
    "ax.imshow(x)\n",
    "ax.set_title('gt')\n",
    "draw_boxes(gt, 'r')        \n",
    "\n",
    "ax = axs[0, 1]\n",
    "ax.imshow(x)\n",
    "ax.set_title('pred')\n",
    "draw_boxes(preds, 'b')        \n",
    "\n",
    "ax = axs[0, 2]\n",
    "ax.imshow(x)\n",
    "draw_boxes(gt, 'r')        \n",
    "draw_boxes(preds, 'b')        \n",
    "\n",
    "plt.show()"
   ]
  },
  {
   "cell_type": "code",
   "execution_count": 42,
   "id": "ddf26498",
   "metadata": {},
   "outputs": [
    {
     "name": "stdout",
     "output_type": "stream",
     "text": [
      "['map_2d']\n"
     ]
    }
   ],
   "source": [
    "# print list of available metrics\n",
    "print(MetricBuilder.get_metrics_list())\n",
    "\n",
    "# create metric_fn\n",
    "metric_fn = MetricBuilder.build_evaluation_metric(\"map_2d\", async_mode=False, num_classes=1)\n"
   ]
  },
  {
   "cell_type": "code",
   "execution_count": 4,
   "id": "08128cd8",
   "metadata": {},
   "outputs": [],
   "source": [
    "metric_fn.add(preds, gt)"
   ]
  },
  {
   "cell_type": "code",
   "execution_count": 5,
   "id": "074ecfb2",
   "metadata": {},
   "outputs": [
    {
     "name": "stdout",
     "output_type": "stream",
     "text": [
      "VOC PASCAL mAP: 0.5\n",
      "VOC PASCAL mAP in all points: 0.5\n",
      "COCO mAP: 0.15730197727680206\n"
     ]
    }
   ],
   "source": [
    "# compute PASCAL VOC metric\n",
    "print(f\"VOC PASCAL mAP: {metric_fn.value(iou_thresholds=0.5, recall_thresholds=np.arange(0., 1.1, 0.1))['mAP']}\")\n",
    "\n",
    "# compute PASCAL VOC metric at the all points\n",
    "print(f\"VOC PASCAL mAP in all points: {metric_fn.value(iou_thresholds=0.5)['mAP']}\")\n",
    "\n",
    "# compute metric COCO metric\n",
    "print(f\"COCO mAP: {metric_fn.value(iou_thresholds=np.arange(0.5, 1.0, 0.05), recall_thresholds=np.arange(0., 1.01, 0.01), mpolicy='soft')['mAP']}\")"
   ]
  },
  {
   "cell_type": "code",
   "execution_count": null,
   "id": "a0f4b926",
   "metadata": {},
   "outputs": [],
   "source": []
  }
 ],
 "metadata": {
  "kernelspec": {
   "display_name": "Python 3",
   "language": "python",
   "name": "python3"
  },
  "language_info": {
   "codemirror_mode": {
    "name": "ipython",
    "version": 3
   },
   "file_extension": ".py",
   "mimetype": "text/x-python",
   "name": "python",
   "nbconvert_exporter": "python",
   "pygments_lexer": "ipython3",
   "version": "3.8.9"
  }
 },
 "nbformat": 4,
 "nbformat_minor": 5
}
